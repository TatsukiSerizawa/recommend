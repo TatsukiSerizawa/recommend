{
 "cells": [
  {
   "cell_type": "markdown",
   "metadata": {},
   "source": [
    "# レコメンドの実施\n",
    "\n",
    "レコメンドモデルの構築と評価の実施  \n",
    "surpriseライブラリを使用"
   ]
  },
  {
   "cell_type": "code",
   "execution_count": 1,
   "metadata": {},
   "outputs": [],
   "source": [
    "import pandas as pd\n",
    "from surprise import Dataset, Reader\n",
    "from surprise import SVD, NMF\n",
    "from surprise.model_selection import cross_validate"
   ]
  },
  {
   "cell_type": "code",
   "execution_count": 2,
   "metadata": {},
   "outputs": [],
   "source": [
    "df = pd.read_pickle(\"../data/data.pkl\")"
   ]
  },
  {
   "cell_type": "code",
   "execution_count": 3,
   "metadata": {},
   "outputs": [],
   "source": [
    "df = df[[\"user_id\", \"name\", \"user_rating\"]]"
   ]
  },
  {
   "cell_type": "code",
   "execution_count": 4,
   "metadata": {},
   "outputs": [
    {
     "data": {
      "text/plain": [
       "(5957004, 3)"
      ]
     },
     "execution_count": 4,
     "metadata": {},
     "output_type": "execute_result"
    }
   ],
   "source": [
    "df.shape"
   ]
  },
  {
   "cell_type": "markdown",
   "metadata": {},
   "source": [
    "### Create my dataset\n",
    "\n",
    "printで表示されているのが評価で出力する自分のid"
   ]
  },
  {
   "cell_type": "code",
   "execution_count": 7,
   "metadata": {},
   "outputs": [
    {
     "name": "stdout",
     "output_type": "stream",
     "text": [
      "73517\n"
     ]
    }
   ],
   "source": [
    "test_id = df[\"user_id\"].max() + 1\n",
    "print(test_id)\n",
    "\n",
    "test_df = [\n",
    "    [test_id, \"Angel Beats!\", 9],\n",
    "    [test_id, \"Code Geass: Hangyaku no Lelouch\", 8],\n",
    "    [test_id, \"Toradora!\", 8],\n",
    "    [test_id, \"Steins;Gate\", 10],\n",
    "    [test_id, \"Doraemon (1979)\", 6],\n",
    "    [test_id, \"Shirobako\", 8],\n",
    "    [test_id, \"Glasslip\", 3],\n",
    "    [test_id, \"Kimi no Na wa.\", 6],\n",
    "    [test_id, \"Byousoku 5 Centimeter\", 9],\n",
    "]\n",
    "\n",
    "test_df = pd.DataFrame(test_df, columns=df.columns)"
   ]
  },
  {
   "cell_type": "code",
   "execution_count": 8,
   "metadata": {},
   "outputs": [
    {
     "data": {
      "text/html": [
       "<div>\n",
       "<style scoped>\n",
       "    .dataframe tbody tr th:only-of-type {\n",
       "        vertical-align: middle;\n",
       "    }\n",
       "\n",
       "    .dataframe tbody tr th {\n",
       "        vertical-align: top;\n",
       "    }\n",
       "\n",
       "    .dataframe thead th {\n",
       "        text-align: right;\n",
       "    }\n",
       "</style>\n",
       "<table border=\"1\" class=\"dataframe\">\n",
       "  <thead>\n",
       "    <tr style=\"text-align: right;\">\n",
       "      <th></th>\n",
       "      <th>user_id</th>\n",
       "      <th>name</th>\n",
       "      <th>user_rating</th>\n",
       "    </tr>\n",
       "  </thead>\n",
       "  <tbody>\n",
       "    <tr>\n",
       "      <th>0</th>\n",
       "      <td>73517</td>\n",
       "      <td>Angel Beats!</td>\n",
       "      <td>9</td>\n",
       "    </tr>\n",
       "    <tr>\n",
       "      <th>1</th>\n",
       "      <td>73517</td>\n",
       "      <td>Code Geass: Hangyaku no Lelouch</td>\n",
       "      <td>8</td>\n",
       "    </tr>\n",
       "    <tr>\n",
       "      <th>2</th>\n",
       "      <td>73517</td>\n",
       "      <td>Toradora!</td>\n",
       "      <td>8</td>\n",
       "    </tr>\n",
       "    <tr>\n",
       "      <th>3</th>\n",
       "      <td>73517</td>\n",
       "      <td>Steins;Gate</td>\n",
       "      <td>10</td>\n",
       "    </tr>\n",
       "    <tr>\n",
       "      <th>4</th>\n",
       "      <td>73517</td>\n",
       "      <td>Doraemon (1979)</td>\n",
       "      <td>6</td>\n",
       "    </tr>\n",
       "  </tbody>\n",
       "</table>\n",
       "</div>"
      ],
      "text/plain": [
       "   user_id                             name  user_rating\n",
       "0    73517                     Angel Beats!            9\n",
       "1    73517  Code Geass: Hangyaku no Lelouch            8\n",
       "2    73517                        Toradora!            8\n",
       "3    73517                      Steins;Gate           10\n",
       "4    73517                  Doraemon (1979)            6"
      ]
     },
     "execution_count": 8,
     "metadata": {},
     "output_type": "execute_result"
    }
   ],
   "source": [
    "test_df.head()"
   ]
  },
  {
   "cell_type": "markdown",
   "metadata": {},
   "source": [
    "### Create dataset\n",
    "\n",
    "メモリの都合で1万件に絞って学習用データセットを作成"
   ]
  },
  {
   "cell_type": "code",
   "execution_count": 9,
   "metadata": {},
   "outputs": [],
   "source": [
    "# reduce data due to memory limitation\n",
    "sample_data = df.sample(10000, random_state=42)\n",
    "sample_data = pd.concat([sample_data, test_df], axis=0)"
   ]
  },
  {
   "cell_type": "code",
   "execution_count": 10,
   "metadata": {},
   "outputs": [],
   "source": [
    "reader = Reader(rating_scale=(0, 10))\n",
    "data = Dataset.load_from_df(sample_data, reader)"
   ]
  },
  {
   "cell_type": "code",
   "execution_count": 11,
   "metadata": {},
   "outputs": [],
   "source": [
    "del df, sample_data"
   ]
  },
  {
   "cell_type": "markdown",
   "metadata": {},
   "source": [
    "### Non negative matrix factorization (行列の次元削減手法) を活用して協調フィルタリング"
   ]
  },
  {
   "cell_type": "code",
   "execution_count": 12,
   "metadata": {},
   "outputs": [
    {
     "data": {
      "text/plain": [
       "<surprise.prediction_algorithms.matrix_factorization.NMF at 0x7f850c0a8160>"
      ]
     },
     "execution_count": 12,
     "metadata": {},
     "output_type": "execute_result"
    }
   ],
   "source": [
    "# Non negative matrix factorization\n",
    "trainset = data.build_full_trainset()\n",
    "nmf = NMF()\n",
    "nmf.fit(trainset)"
   ]
  },
  {
   "cell_type": "code",
   "execution_count": 13,
   "metadata": {},
   "outputs": [],
   "source": [
    "del data"
   ]
  },
  {
   "cell_type": "code",
   "execution_count": 14,
   "metadata": {},
   "outputs": [],
   "source": [
    "testset = trainset.build_anti_testset()"
   ]
  },
  {
   "cell_type": "code",
   "execution_count": 15,
   "metadata": {},
   "outputs": [],
   "source": [
    "del trainset"
   ]
  },
  {
   "cell_type": "code",
   "execution_count": 16,
   "metadata": {},
   "outputs": [],
   "source": [
    "pred = nmf.test(testset)"
   ]
  },
  {
   "cell_type": "code",
   "execution_count": 17,
   "metadata": {},
   "outputs": [],
   "source": [
    "from collections import defaultdict\n",
    "\n",
    "\n",
    "def get_top_n(predictions, n=10):\n",
    "    \"\"\"Return the top-N recommendation for each user from a set of predictions.\n",
    "\n",
    "    Args:\n",
    "        predictions(list of Prediction objects): The list of predictions, as\n",
    "            returned by the test method of an algorithm.\n",
    "        n(int): The number of recommendation to output for each user. Default\n",
    "            is 10.\n",
    "\n",
    "    Returns:\n",
    "    A dict where keys are user (raw) ids and values are lists of tuples:\n",
    "        [(raw item id, rating estimation), ...] of size n.\n",
    "    \"\"\"\n",
    "\n",
    "    # First map the predictions to each user.\n",
    "    top_n = defaultdict(list)\n",
    "    for uid, iid, true_r, est, _ in predictions:\n",
    "        top_n[uid].append((iid, est))\n",
    "\n",
    "    # Then sort the predictions for each user and retrieve the k highest ones.\n",
    "    for uid, user_ratings in top_n.items():\n",
    "        user_ratings.sort(key=lambda x: x[1], reverse=True)\n",
    "        top_n[uid] = user_ratings[:n]\n",
    "\n",
    "    return top_n"
   ]
  },
  {
   "cell_type": "markdown",
   "metadata": {},
   "source": [
    "## Prediction result"
   ]
  },
  {
   "cell_type": "code",
   "execution_count": 18,
   "metadata": {},
   "outputs": [],
   "source": [
    "top_n = get_top_n(pred, n=20)"
   ]
  },
  {
   "cell_type": "code",
   "execution_count": 19,
   "metadata": {},
   "outputs": [],
   "source": [
    "del pred"
   ]
  },
  {
   "cell_type": "markdown",
   "metadata": {},
   "source": [
    "評価用の自分のidでレコメンド結果確認"
   ]
  },
  {
   "cell_type": "code",
   "execution_count": 20,
   "metadata": {},
   "outputs": [
    {
     "data": {
      "text/plain": [
       "[('Kuroshitsuji Picture Drama', 8.07063935240594),\n",
       " ('Slayers Special', 7.93893526895414),\n",
       " ('Kuroko no Basket: Tip Off', 7.7004767620369226),\n",
       " ('91 Days', 7.505669460621202),\n",
       " ('Cross Game', 7.432634365121517),\n",
       " ('Hunter x Hunter OVA', 7.4017509040740475),\n",
       " ('Mahou Shoujo Lyrical Nanoha', 7.292481800686363),\n",
       " ('Zero no Tsukaima: Princesses no Rondo', 7.267398677116635),\n",
       " ('Break Blade', 7.206900566405725),\n",
       " ('Tenchi Muyou! Ryououki', 7.191155443591789),\n",
       " ('Major S3', 7.172644173331797),\n",
       " ('Sayonara Zetsubou Sensei', 7.084024120087983),\n",
       " ('Plastic Neesan', 7.082430214358044),\n",
       " ('Toaru Kagaku no Railgun', 7.067395688446211),\n",
       " ('Zutto Mae kara Suki deshita.: Kokuhaku Jikkou Iinkai', 7.0499555960429845),\n",
       " ('Ao no Exorcist Movie', 7.048684545849936),\n",
       " ('ef: A Tale of Melodies.', 7.045526357426911),\n",
       " ('The iDOLM@STER', 7.040001144062005),\n",
       " ('Casshern Sins', 7.034706647913128),\n",
       " ('Suzumiya Haruhi no Shoushitsu', 7.031028857807739)]"
      ]
     },
     "execution_count": 20,
     "metadata": {},
     "output_type": "execute_result"
    }
   ],
   "source": [
    "top_n[73517]"
   ]
  },
  {
   "cell_type": "code",
   "execution_count": 21,
   "metadata": {},
   "outputs": [],
   "source": [
    "# test_df = [\n",
    "#     [test_id, \"Angel Beats!\", 10],\n",
    "#     [test_id, \"Ookami to Koushinryou\", 10],\n",
    "#     [test_id, \"Shinsekai yori\", 8],\n",
    "#     [test_id, \"Seikimatsu Occult Gakuin\", 6],\n",
    "#     [test_id, \"Futari wa Precure\", 8],\n",
    "#     [test_id, \"Shugo Chara!\", 8],\n",
    "#     [test_id, \"Uchuu Senkan Yamato 2199\", 9],\n",
    "# ]"
   ]
  }
 ],
 "metadata": {
  "kernelspec": {
   "display_name": "Python 3 (ipykernel)",
   "language": "python",
   "name": "python3"
  },
  "language_info": {
   "codemirror_mode": {
    "name": "ipython",
    "version": 3
   },
   "file_extension": ".py",
   "mimetype": "text/x-python",
   "name": "python",
   "nbconvert_exporter": "python",
   "pygments_lexer": "ipython3",
   "version": "3.8.12"
  },
  "vscode": {
   "interpreter": {
    "hash": "c7d37432957a4a72936bc8bbaaa683a4cbe5f1c5a2b967b084a21d45b3c6ffa6"
   }
  }
 },
 "nbformat": 4,
 "nbformat_minor": 2
}
